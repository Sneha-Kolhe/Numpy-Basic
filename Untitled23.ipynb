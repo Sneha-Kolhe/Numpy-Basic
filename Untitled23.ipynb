{
 "cells": [
  {
   "cell_type": "markdown",
   "id": "5499c843-035a-4b92-a620-61b56ebbaf87",
   "metadata": {},
   "source": [
    "## Q1. Is there any difference in the data type of variables list_ and array_list? If there is then write a code\n",
    "to print the data types of both the variables."
   ]
  },
  {
   "cell_type": "code",
   "execution_count": null,
   "id": "e0a8e368-a879-4958-a399-172425b8d270",
   "metadata": {},
   "outputs": [],
   "source": [
    "# Importing NumPy for illustration\n",
    "import numpy as np\n",
    "\n",
    "# Define a regular list\n",
    "list_ = [1, 2, 3, 4, 5]\n",
    "\n",
    "# Define a NumPy array\n",
    "array_list = np.array([1, 2, 3, 4, 5])\n",
    "\n",
    "# Print the data types of both variables\n",
    "print(\"Data type of list_:\", type(list_))\n",
    "print(\"Data type of array_list:\", type(array_list))"
   ]
  },
  {
   "cell_type": "markdown",
   "id": "dcdf26e1-dd41-48b2-a246-2f4890767af4",
   "metadata": {},
   "source": [
    "## Q2. Write a code to print the data type of each and every element of both the variables list_ and\n",
    "arra_list."
   ]
  },
  {
   "cell_type": "code",
   "execution_count": null,
   "id": "b65e4568-44f6-4d9f-a41a-0afaa19e3991",
   "metadata": {},
   "outputs": [],
   "source": [
    "# Importing NumPy for illustration\n",
    "import numpy as np\n",
    "\n",
    "# Define a regular list\n",
    "list_ = [1, 2, 3, 4, 5]\n",
    "\n",
    "# Define a NumPy array\n",
    "array_list = np.array([1, 2, 3, 4, 5])\n",
    "\n",
    "# Print the data type of each element in list_\n",
    "print(\"Data type of each element in list_:\")\n",
    "for element in list_:\n",
    "    print(type(element))\n",
    "\n",
    "# Print the data type of each element in array_list\n",
    "print(\"\\nData type of each element in array_list:\")\n",
    "for element in array_list:\n",
    "    print(type(element))"
   ]
  },
  {
   "cell_type": "markdown",
   "id": "c351cb4d-7dea-4c1d-b02b-62940683edbc",
   "metadata": {},
   "source": [
    "## Q3. Create an identity matrix of shape (5,5) using numpy functions?\n",
    "[Hint: An identity matrix is a matrix containing 1 diagonally and other elements will be 0.]"
   ]
  },
  {
   "cell_type": "code",
   "execution_count": null,
   "id": "a5fe8936-ef57-4c80-b9d2-8ed817cb16dc",
   "metadata": {},
   "outputs": [],
   "source": []
  }
 ],
 "metadata": {
  "kernelspec": {
   "display_name": "Python 3 (ipykernel)",
   "language": "python",
   "name": "python3"
  },
  "language_info": {
   "codemirror_mode": {
    "name": "ipython",
    "version": 3
   },
   "file_extension": ".py",
   "mimetype": "text/x-python",
   "name": "python",
   "nbconvert_exporter": "python",
   "pygments_lexer": "ipython3",
   "version": "3.10.8"
  }
 },
 "nbformat": 4,
 "nbformat_minor": 5
}
